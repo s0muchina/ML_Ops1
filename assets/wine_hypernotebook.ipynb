{
 "cells": [
  {
   "cell_type": "code",
   "execution_count": 11,
   "metadata": {},
   "outputs": [
    {
     "name": "stdout",
     "output_type": "stream",
     "text": [
      "Collecting graphviz\n",
      "  Downloading graphviz-0.20.2-py3-none-any.whl (47 kB)\n",
      "Installing collected packages: graphviz\n",
      "Successfully installed graphviz-0.20.2\n",
      "Note: you may need to restart the kernel to use updated packages.\n"
     ]
    },
    {
     "name": "stderr",
     "output_type": "stream",
     "text": [
      "WARNING: You are using pip version 21.3.1; however, version 24.0 is available.\n",
      "You should consider upgrading via the 'c:\\Users\\aaa\\AppData\\Local\\Programs\\Python\\Python310\\python.exe -m pip install --upgrade pip' command.\n"
     ]
    }
   ],
   "source": [
    "#pip install graphviz"
   ]
  },
  {
   "cell_type": "code",
   "execution_count": 71,
   "metadata": {},
   "outputs": [],
   "source": [
    "# Data Processing\n",
    "import pandas as pd\n",
    "import numpy as np\n",
    "\n",
    "\n",
    "# Modelling\n",
    "from sklearn.preprocessing import MinMaxScaler\n",
    "from sklearn.ensemble import RandomForestClassifier\n",
    "from sklearn.metrics import accuracy_score, confusion_matrix, precision_score, recall_score, ConfusionMatrixDisplay\n",
    "from sklearn.model_selection import RandomizedSearchCV, train_test_split\n",
    "from scipy.stats import randint\n",
    "\n",
    "\n",
    "\n",
    "# Tree Visualisation & plot visualization\n",
    "from sklearn.tree import export_graphviz\n",
    "from IPython.display import Image\n",
    "import graphviz\n",
    "import matplotlib.pyplot as plt\n",
    "import seaborn as sns\n",
    "\n",
    "# Set random seed\n",
    "seed = 42"
   ]
  },
  {
   "cell_type": "markdown",
   "metadata": {},
   "source": [
    "## Load  and prepare data"
   ]
  },
  {
   "cell_type": "code",
   "execution_count": 73,
   "metadata": {},
   "outputs": [
    {
     "data": {
      "text/html": [
       "<div>\n",
       "<style scoped>\n",
       "    .dataframe tbody tr th:only-of-type {\n",
       "        vertical-align: middle;\n",
       "    }\n",
       "\n",
       "    .dataframe tbody tr th {\n",
       "        vertical-align: top;\n",
       "    }\n",
       "\n",
       "    .dataframe thead th {\n",
       "        text-align: right;\n",
       "    }\n",
       "</style>\n",
       "<table border=\"1\" class=\"dataframe\">\n",
       "  <thead>\n",
       "    <tr style=\"text-align: right;\">\n",
       "      <th></th>\n",
       "      <th>fixed acidity</th>\n",
       "      <th>volatile acidity</th>\n",
       "      <th>citric acid</th>\n",
       "      <th>residual sugar</th>\n",
       "      <th>chlorides</th>\n",
       "      <th>free sulfur dioxide</th>\n",
       "      <th>total sulfur dioxide</th>\n",
       "      <th>density</th>\n",
       "      <th>pH</th>\n",
       "      <th>sulphates</th>\n",
       "      <th>alcohol</th>\n",
       "      <th>quality</th>\n",
       "    </tr>\n",
       "  </thead>\n",
       "  <tbody>\n",
       "    <tr>\n",
       "      <th>0</th>\n",
       "      <td>7.4</td>\n",
       "      <td>0.70</td>\n",
       "      <td>0.00</td>\n",
       "      <td>1.9</td>\n",
       "      <td>0.076</td>\n",
       "      <td>11.0</td>\n",
       "      <td>34.0</td>\n",
       "      <td>0.9978</td>\n",
       "      <td>3.51</td>\n",
       "      <td>0.56</td>\n",
       "      <td>9.4</td>\n",
       "      <td>5</td>\n",
       "    </tr>\n",
       "    <tr>\n",
       "      <th>1</th>\n",
       "      <td>7.8</td>\n",
       "      <td>0.88</td>\n",
       "      <td>0.00</td>\n",
       "      <td>2.6</td>\n",
       "      <td>0.098</td>\n",
       "      <td>25.0</td>\n",
       "      <td>67.0</td>\n",
       "      <td>0.9968</td>\n",
       "      <td>3.20</td>\n",
       "      <td>0.68</td>\n",
       "      <td>9.8</td>\n",
       "      <td>5</td>\n",
       "    </tr>\n",
       "    <tr>\n",
       "      <th>2</th>\n",
       "      <td>7.8</td>\n",
       "      <td>0.76</td>\n",
       "      <td>0.04</td>\n",
       "      <td>2.3</td>\n",
       "      <td>0.092</td>\n",
       "      <td>15.0</td>\n",
       "      <td>54.0</td>\n",
       "      <td>0.9970</td>\n",
       "      <td>3.26</td>\n",
       "      <td>0.65</td>\n",
       "      <td>9.8</td>\n",
       "      <td>5</td>\n",
       "    </tr>\n",
       "    <tr>\n",
       "      <th>3</th>\n",
       "      <td>11.2</td>\n",
       "      <td>0.28</td>\n",
       "      <td>0.56</td>\n",
       "      <td>1.9</td>\n",
       "      <td>0.075</td>\n",
       "      <td>17.0</td>\n",
       "      <td>60.0</td>\n",
       "      <td>0.9980</td>\n",
       "      <td>3.16</td>\n",
       "      <td>0.58</td>\n",
       "      <td>9.8</td>\n",
       "      <td>6</td>\n",
       "    </tr>\n",
       "    <tr>\n",
       "      <th>4</th>\n",
       "      <td>7.4</td>\n",
       "      <td>0.70</td>\n",
       "      <td>0.00</td>\n",
       "      <td>1.9</td>\n",
       "      <td>0.076</td>\n",
       "      <td>11.0</td>\n",
       "      <td>34.0</td>\n",
       "      <td>0.9978</td>\n",
       "      <td>3.51</td>\n",
       "      <td>0.56</td>\n",
       "      <td>9.4</td>\n",
       "      <td>5</td>\n",
       "    </tr>\n",
       "  </tbody>\n",
       "</table>\n",
       "</div>"
      ],
      "text/plain": [
       "   fixed acidity  volatile acidity  citric acid  residual sugar  chlorides   \n",
       "0            7.4              0.70         0.00             1.9      0.076  \\\n",
       "1            7.8              0.88         0.00             2.6      0.098   \n",
       "2            7.8              0.76         0.04             2.3      0.092   \n",
       "3           11.2              0.28         0.56             1.9      0.075   \n",
       "4            7.4              0.70         0.00             1.9      0.076   \n",
       "\n",
       "   free sulfur dioxide  total sulfur dioxide  density    pH  sulphates   \n",
       "0                 11.0                  34.0   0.9978  3.51       0.56  \\\n",
       "1                 25.0                  67.0   0.9968  3.20       0.68   \n",
       "2                 15.0                  54.0   0.9970  3.26       0.65   \n",
       "3                 17.0                  60.0   0.9980  3.16       0.58   \n",
       "4                 11.0                  34.0   0.9978  3.51       0.56   \n",
       "\n",
       "   alcohol  quality  \n",
       "0      9.4        5  \n",
       "1      9.8        5  \n",
       "2      9.8        5  \n",
       "3      9.8        6  \n",
       "4      9.4        5  "
      ]
     },
     "execution_count": 73,
     "metadata": {},
     "output_type": "execute_result"
    }
   ],
   "source": [
    "# Load in the data\n",
    "df = pd.read_csv(\"D:\\python\\Python\\wine\\winequality-red.csv\")\n",
    "df.head()\n",
    "\n"
   ]
  },
  {
   "cell_type": "code",
   "execution_count": 74,
   "metadata": {},
   "outputs": [],
   "source": [
    "#rename column label for python recognizability all except \"quality \"..... which are appropriate \n",
    "df.rename(columns = {\"fixed acidity\": \"fixed_acidity\", \"volatile acidity\": \"volatile_acidity\",\n",
    "                    \"citric acid\": \"citric_acid\", \"residual sugar\": \"residual_sugar\",\n",
    "                    \"chlorides\": \"chlorides\", \"free sulfur dioxide\": \"free_sulfur_dioxide\",\n",
    "                    \"total sulfur dioxide\": \"total_sulfur_dioxide\"}, inplace = True)"
   ]
  },
  {
   "cell_type": "code",
   "execution_count": 75,
   "metadata": {},
   "outputs": [
    {
     "data": {
      "text/html": [
       "<style type=\"text/css\">\n",
       "#T_cf313_row0_col0, #T_cf313_row1_col0, #T_cf313_row1_col7, #T_cf313_row2_col0, #T_cf313_row2_col3, #T_cf313_row2_col4, #T_cf313_row2_col7, #T_cf313_row3_col0, #T_cf313_row4_col0, #T_cf313_row4_col1, #T_cf313_row4_col2, #T_cf313_row4_col3, #T_cf313_row4_col4, #T_cf313_row4_col5, #T_cf313_row4_col6, #T_cf313_row4_col7, #T_cf313_row5_col0, #T_cf313_row6_col0, #T_cf313_row7_col0, #T_cf313_row7_col2, #T_cf313_row7_col7, #T_cf313_row8_col0, #T_cf313_row9_col0, #T_cf313_row10_col0, #T_cf313_row11_col0 {\n",
       "  background-color: #000004;\n",
       "  color: #f1f1f1;\n",
       "}\n",
       "#T_cf313_row0_col1, #T_cf313_row10_col6 {\n",
       "  background-color: #380962;\n",
       "  color: #f1f1f1;\n",
       "}\n",
       "#T_cf313_row0_col2, #T_cf313_row0_col7, #T_cf313_row3_col1, #T_cf313_row3_col7, #T_cf313_row8_col6 {\n",
       "  background-color: #08051d;\n",
       "  color: #f1f1f1;\n",
       "}\n",
       "#T_cf313_row0_col3 {\n",
       "  background-color: #cc4248;\n",
       "  color: #f1f1f1;\n",
       "}\n",
       "#T_cf313_row0_col4 {\n",
       "  background-color: #741a6e;\n",
       "  color: #f1f1f1;\n",
       "}\n",
       "#T_cf313_row0_col5 {\n",
       "  background-color: #440a68;\n",
       "  color: #f1f1f1;\n",
       "}\n",
       "#T_cf313_row0_col6 {\n",
       "  background-color: #290b55;\n",
       "  color: #f1f1f1;\n",
       "}\n",
       "#T_cf313_row1_col1, #T_cf313_row1_col5, #T_cf313_row1_col6, #T_cf313_row9_col6 {\n",
       "  background-color: #010106;\n",
       "  color: #f1f1f1;\n",
       "}\n",
       "#T_cf313_row1_col2, #T_cf313_row2_col1, #T_cf313_row2_col2, #T_cf313_row2_col5, #T_cf313_row2_col6, #T_cf313_row8_col2, #T_cf313_row9_col2, #T_cf313_row9_col7 {\n",
       "  background-color: #010005;\n",
       "  color: #f1f1f1;\n",
       "}\n",
       "#T_cf313_row1_col3, #T_cf313_row1_col4, #T_cf313_row7_col6, #T_cf313_row8_col7, #T_cf313_row9_col1, #T_cf313_row9_col5 {\n",
       "  background-color: #010108;\n",
       "  color: #f1f1f1;\n",
       "}\n",
       "#T_cf313_row3_col2, #T_cf313_row3_col6, #T_cf313_row7_col4, #T_cf313_row9_col3 {\n",
       "  background-color: #050417;\n",
       "  color: #f1f1f1;\n",
       "}\n",
       "#T_cf313_row3_col3 {\n",
       "  background-color: #190c3e;\n",
       "  color: #f1f1f1;\n",
       "}\n",
       "#T_cf313_row3_col4, #T_cf313_row8_col5 {\n",
       "  background-color: #110a30;\n",
       "  color: #f1f1f1;\n",
       "}\n",
       "#T_cf313_row3_col5 {\n",
       "  background-color: #09061f;\n",
       "  color: #f1f1f1;\n",
       "}\n",
       "#T_cf313_row5_col1 {\n",
       "  background-color: #7c1d6d;\n",
       "  color: #f1f1f1;\n",
       "}\n",
       "#T_cf313_row5_col2 {\n",
       "  background-color: #721a6e;\n",
       "  color: #f1f1f1;\n",
       "}\n",
       "#T_cf313_row5_col3, #T_cf313_row7_col3, #T_cf313_row11_col1 {\n",
       "  background-color: #1e0c45;\n",
       "  color: #f1f1f1;\n",
       "}\n",
       "#T_cf313_row5_col4 {\n",
       "  background-color: #71196e;\n",
       "  color: #f1f1f1;\n",
       "}\n",
       "#T_cf313_row5_col5 {\n",
       "  background-color: #85216b;\n",
       "  color: #f1f1f1;\n",
       "}\n",
       "#T_cf313_row5_col6 {\n",
       "  background-color: #7a1d6d;\n",
       "  color: #f1f1f1;\n",
       "}\n",
       "#T_cf313_row5_col7 {\n",
       "  background-color: #550f6d;\n",
       "  color: #f1f1f1;\n",
       "}\n",
       "#T_cf313_row6_col1, #T_cf313_row6_col2, #T_cf313_row6_col4, #T_cf313_row6_col5, #T_cf313_row6_col6, #T_cf313_row6_col7, #T_cf313_row10_col3 {\n",
       "  background-color: #fcffa4;\n",
       "  color: #000000;\n",
       "}\n",
       "#T_cf313_row6_col3 {\n",
       "  background-color: #f57d15;\n",
       "  color: #f1f1f1;\n",
       "}\n",
       "#T_cf313_row7_col1, #T_cf313_row9_col4 {\n",
       "  background-color: #02020c;\n",
       "  color: #f1f1f1;\n",
       "}\n",
       "#T_cf313_row7_col5, #T_cf313_row11_col2, #T_cf313_row11_col7 {\n",
       "  background-color: #02020e;\n",
       "  color: #f1f1f1;\n",
       "}\n",
       "#T_cf313_row8_col1 {\n",
       "  background-color: #0c0826;\n",
       "  color: #f1f1f1;\n",
       "}\n",
       "#T_cf313_row8_col3 {\n",
       "  background-color: #751b6e;\n",
       "  color: #f1f1f1;\n",
       "}\n",
       "#T_cf313_row8_col4 {\n",
       "  background-color: #280b53;\n",
       "  color: #f1f1f1;\n",
       "}\n",
       "#T_cf313_row10_col1, #T_cf313_row11_col4 {\n",
       "  background-color: #4c0c6b;\n",
       "  color: #f1f1f1;\n",
       "}\n",
       "#T_cf313_row10_col2 {\n",
       "  background-color: #040312;\n",
       "  color: #f1f1f1;\n",
       "}\n",
       "#T_cf313_row10_col4 {\n",
       "  background-color: #a02a63;\n",
       "  color: #f1f1f1;\n",
       "}\n",
       "#T_cf313_row10_col5 {\n",
       "  background-color: #5d126e;\n",
       "  color: #f1f1f1;\n",
       "}\n",
       "#T_cf313_row10_col7 {\n",
       "  background-color: #07051b;\n",
       "  color: #f1f1f1;\n",
       "}\n",
       "#T_cf313_row11_col3 {\n",
       "  background-color: #82206c;\n",
       "  color: #f1f1f1;\n",
       "}\n",
       "#T_cf313_row11_col5 {\n",
       "  background-color: #2d0b59;\n",
       "  color: #f1f1f1;\n",
       "}\n",
       "#T_cf313_row11_col6 {\n",
       "  background-color: #150b37;\n",
       "  color: #f1f1f1;\n",
       "}\n",
       "</style>\n",
       "<table id=\"T_cf313\">\n",
       "  <thead>\n",
       "    <tr>\n",
       "      <th class=\"blank level0\" >&nbsp;</th>\n",
       "      <th id=\"T_cf313_level0_col0\" class=\"col_heading level0 col0\" >count</th>\n",
       "      <th id=\"T_cf313_level0_col1\" class=\"col_heading level0 col1\" >mean</th>\n",
       "      <th id=\"T_cf313_level0_col2\" class=\"col_heading level0 col2\" >std</th>\n",
       "      <th id=\"T_cf313_level0_col3\" class=\"col_heading level0 col3\" >min</th>\n",
       "      <th id=\"T_cf313_level0_col4\" class=\"col_heading level0 col4\" >25%</th>\n",
       "      <th id=\"T_cf313_level0_col5\" class=\"col_heading level0 col5\" >50%</th>\n",
       "      <th id=\"T_cf313_level0_col6\" class=\"col_heading level0 col6\" >75%</th>\n",
       "      <th id=\"T_cf313_level0_col7\" class=\"col_heading level0 col7\" >max</th>\n",
       "    </tr>\n",
       "  </thead>\n",
       "  <tbody>\n",
       "    <tr>\n",
       "      <th id=\"T_cf313_level0_row0\" class=\"row_heading level0 row0\" >fixed_acidity</th>\n",
       "      <td id=\"T_cf313_row0_col0\" class=\"data row0 col0\" >1599.000000</td>\n",
       "      <td id=\"T_cf313_row0_col1\" class=\"data row0 col1\" >8.319637</td>\n",
       "      <td id=\"T_cf313_row0_col2\" class=\"data row0 col2\" >1.741096</td>\n",
       "      <td id=\"T_cf313_row0_col3\" class=\"data row0 col3\" >4.600000</td>\n",
       "      <td id=\"T_cf313_row0_col4\" class=\"data row0 col4\" >7.100000</td>\n",
       "      <td id=\"T_cf313_row0_col5\" class=\"data row0 col5\" >7.900000</td>\n",
       "      <td id=\"T_cf313_row0_col6\" class=\"data row0 col6\" >9.200000</td>\n",
       "      <td id=\"T_cf313_row0_col7\" class=\"data row0 col7\" >15.900000</td>\n",
       "    </tr>\n",
       "    <tr>\n",
       "      <th id=\"T_cf313_level0_row1\" class=\"row_heading level0 row1\" >volatile_acidity</th>\n",
       "      <td id=\"T_cf313_row1_col0\" class=\"data row1 col0\" >1599.000000</td>\n",
       "      <td id=\"T_cf313_row1_col1\" class=\"data row1 col1\" >0.527821</td>\n",
       "      <td id=\"T_cf313_row1_col2\" class=\"data row1 col2\" >0.179060</td>\n",
       "      <td id=\"T_cf313_row1_col3\" class=\"data row1 col3\" >0.120000</td>\n",
       "      <td id=\"T_cf313_row1_col4\" class=\"data row1 col4\" >0.390000</td>\n",
       "      <td id=\"T_cf313_row1_col5\" class=\"data row1 col5\" >0.520000</td>\n",
       "      <td id=\"T_cf313_row1_col6\" class=\"data row1 col6\" >0.640000</td>\n",
       "      <td id=\"T_cf313_row1_col7\" class=\"data row1 col7\" >1.580000</td>\n",
       "    </tr>\n",
       "    <tr>\n",
       "      <th id=\"T_cf313_level0_row2\" class=\"row_heading level0 row2\" >citric_acid</th>\n",
       "      <td id=\"T_cf313_row2_col0\" class=\"data row2 col0\" >1599.000000</td>\n",
       "      <td id=\"T_cf313_row2_col1\" class=\"data row2 col1\" >0.270976</td>\n",
       "      <td id=\"T_cf313_row2_col2\" class=\"data row2 col2\" >0.194801</td>\n",
       "      <td id=\"T_cf313_row2_col3\" class=\"data row2 col3\" >0.000000</td>\n",
       "      <td id=\"T_cf313_row2_col4\" class=\"data row2 col4\" >0.090000</td>\n",
       "      <td id=\"T_cf313_row2_col5\" class=\"data row2 col5\" >0.260000</td>\n",
       "      <td id=\"T_cf313_row2_col6\" class=\"data row2 col6\" >0.420000</td>\n",
       "      <td id=\"T_cf313_row2_col7\" class=\"data row2 col7\" >1.000000</td>\n",
       "    </tr>\n",
       "    <tr>\n",
       "      <th id=\"T_cf313_level0_row3\" class=\"row_heading level0 row3\" >residual_sugar</th>\n",
       "      <td id=\"T_cf313_row3_col0\" class=\"data row3 col0\" >1599.000000</td>\n",
       "      <td id=\"T_cf313_row3_col1\" class=\"data row3 col1\" >2.538806</td>\n",
       "      <td id=\"T_cf313_row3_col2\" class=\"data row3 col2\" >1.409928</td>\n",
       "      <td id=\"T_cf313_row3_col3\" class=\"data row3 col3\" >0.900000</td>\n",
       "      <td id=\"T_cf313_row3_col4\" class=\"data row3 col4\" >1.900000</td>\n",
       "      <td id=\"T_cf313_row3_col5\" class=\"data row3 col5\" >2.200000</td>\n",
       "      <td id=\"T_cf313_row3_col6\" class=\"data row3 col6\" >2.600000</td>\n",
       "      <td id=\"T_cf313_row3_col7\" class=\"data row3 col7\" >15.500000</td>\n",
       "    </tr>\n",
       "    <tr>\n",
       "      <th id=\"T_cf313_level0_row4\" class=\"row_heading level0 row4\" >chlorides</th>\n",
       "      <td id=\"T_cf313_row4_col0\" class=\"data row4 col0\" >1599.000000</td>\n",
       "      <td id=\"T_cf313_row4_col1\" class=\"data row4 col1\" >0.087467</td>\n",
       "      <td id=\"T_cf313_row4_col2\" class=\"data row4 col2\" >0.047065</td>\n",
       "      <td id=\"T_cf313_row4_col3\" class=\"data row4 col3\" >0.012000</td>\n",
       "      <td id=\"T_cf313_row4_col4\" class=\"data row4 col4\" >0.070000</td>\n",
       "      <td id=\"T_cf313_row4_col5\" class=\"data row4 col5\" >0.079000</td>\n",
       "      <td id=\"T_cf313_row4_col6\" class=\"data row4 col6\" >0.090000</td>\n",
       "      <td id=\"T_cf313_row4_col7\" class=\"data row4 col7\" >0.611000</td>\n",
       "    </tr>\n",
       "    <tr>\n",
       "      <th id=\"T_cf313_level0_row5\" class=\"row_heading level0 row5\" >free_sulfur_dioxide</th>\n",
       "      <td id=\"T_cf313_row5_col0\" class=\"data row5 col0\" >1599.000000</td>\n",
       "      <td id=\"T_cf313_row5_col1\" class=\"data row5 col1\" >15.874922</td>\n",
       "      <td id=\"T_cf313_row5_col2\" class=\"data row5 col2\" >10.460157</td>\n",
       "      <td id=\"T_cf313_row5_col3\" class=\"data row5 col3\" >1.000000</td>\n",
       "      <td id=\"T_cf313_row5_col4\" class=\"data row5 col4\" >7.000000</td>\n",
       "      <td id=\"T_cf313_row5_col5\" class=\"data row5 col5\" >14.000000</td>\n",
       "      <td id=\"T_cf313_row5_col6\" class=\"data row5 col6\" >21.000000</td>\n",
       "      <td id=\"T_cf313_row5_col7\" class=\"data row5 col7\" >72.000000</td>\n",
       "    </tr>\n",
       "    <tr>\n",
       "      <th id=\"T_cf313_level0_row6\" class=\"row_heading level0 row6\" >total_sulfur_dioxide</th>\n",
       "      <td id=\"T_cf313_row6_col0\" class=\"data row6 col0\" >1599.000000</td>\n",
       "      <td id=\"T_cf313_row6_col1\" class=\"data row6 col1\" >46.467792</td>\n",
       "      <td id=\"T_cf313_row6_col2\" class=\"data row6 col2\" >32.895324</td>\n",
       "      <td id=\"T_cf313_row6_col3\" class=\"data row6 col3\" >6.000000</td>\n",
       "      <td id=\"T_cf313_row6_col4\" class=\"data row6 col4\" >22.000000</td>\n",
       "      <td id=\"T_cf313_row6_col5\" class=\"data row6 col5\" >38.000000</td>\n",
       "      <td id=\"T_cf313_row6_col6\" class=\"data row6 col6\" >62.000000</td>\n",
       "      <td id=\"T_cf313_row6_col7\" class=\"data row6 col7\" >289.000000</td>\n",
       "    </tr>\n",
       "    <tr>\n",
       "      <th id=\"T_cf313_level0_row7\" class=\"row_heading level0 row7\" >density</th>\n",
       "      <td id=\"T_cf313_row7_col0\" class=\"data row7 col0\" >1599.000000</td>\n",
       "      <td id=\"T_cf313_row7_col1\" class=\"data row7 col1\" >0.996747</td>\n",
       "      <td id=\"T_cf313_row7_col2\" class=\"data row7 col2\" >0.001887</td>\n",
       "      <td id=\"T_cf313_row7_col3\" class=\"data row7 col3\" >0.990070</td>\n",
       "      <td id=\"T_cf313_row7_col4\" class=\"data row7 col4\" >0.995600</td>\n",
       "      <td id=\"T_cf313_row7_col5\" class=\"data row7 col5\" >0.996750</td>\n",
       "      <td id=\"T_cf313_row7_col6\" class=\"data row7 col6\" >0.997835</td>\n",
       "      <td id=\"T_cf313_row7_col7\" class=\"data row7 col7\" >1.003690</td>\n",
       "    </tr>\n",
       "    <tr>\n",
       "      <th id=\"T_cf313_level0_row8\" class=\"row_heading level0 row8\" >pH</th>\n",
       "      <td id=\"T_cf313_row8_col0\" class=\"data row8 col0\" >1599.000000</td>\n",
       "      <td id=\"T_cf313_row8_col1\" class=\"data row8 col1\" >3.311113</td>\n",
       "      <td id=\"T_cf313_row8_col2\" class=\"data row8 col2\" >0.154386</td>\n",
       "      <td id=\"T_cf313_row8_col3\" class=\"data row8 col3\" >2.740000</td>\n",
       "      <td id=\"T_cf313_row8_col4\" class=\"data row8 col4\" >3.210000</td>\n",
       "      <td id=\"T_cf313_row8_col5\" class=\"data row8 col5\" >3.310000</td>\n",
       "      <td id=\"T_cf313_row8_col6\" class=\"data row8 col6\" >3.400000</td>\n",
       "      <td id=\"T_cf313_row8_col7\" class=\"data row8 col7\" >4.010000</td>\n",
       "    </tr>\n",
       "    <tr>\n",
       "      <th id=\"T_cf313_level0_row9\" class=\"row_heading level0 row9\" >sulphates</th>\n",
       "      <td id=\"T_cf313_row9_col0\" class=\"data row9 col0\" >1599.000000</td>\n",
       "      <td id=\"T_cf313_row9_col1\" class=\"data row9 col1\" >0.658149</td>\n",
       "      <td id=\"T_cf313_row9_col2\" class=\"data row9 col2\" >0.169507</td>\n",
       "      <td id=\"T_cf313_row9_col3\" class=\"data row9 col3\" >0.330000</td>\n",
       "      <td id=\"T_cf313_row9_col4\" class=\"data row9 col4\" >0.550000</td>\n",
       "      <td id=\"T_cf313_row9_col5\" class=\"data row9 col5\" >0.620000</td>\n",
       "      <td id=\"T_cf313_row9_col6\" class=\"data row9 col6\" >0.730000</td>\n",
       "      <td id=\"T_cf313_row9_col7\" class=\"data row9 col7\" >2.000000</td>\n",
       "    </tr>\n",
       "    <tr>\n",
       "      <th id=\"T_cf313_level0_row10\" class=\"row_heading level0 row10\" >alcohol</th>\n",
       "      <td id=\"T_cf313_row10_col0\" class=\"data row10 col0\" >1599.000000</td>\n",
       "      <td id=\"T_cf313_row10_col1\" class=\"data row10 col1\" >10.422983</td>\n",
       "      <td id=\"T_cf313_row10_col2\" class=\"data row10 col2\" >1.065668</td>\n",
       "      <td id=\"T_cf313_row10_col3\" class=\"data row10 col3\" >8.400000</td>\n",
       "      <td id=\"T_cf313_row10_col4\" class=\"data row10 col4\" >9.500000</td>\n",
       "      <td id=\"T_cf313_row10_col5\" class=\"data row10 col5\" >10.200000</td>\n",
       "      <td id=\"T_cf313_row10_col6\" class=\"data row10 col6\" >11.100000</td>\n",
       "      <td id=\"T_cf313_row10_col7\" class=\"data row10 col7\" >14.900000</td>\n",
       "    </tr>\n",
       "    <tr>\n",
       "      <th id=\"T_cf313_level0_row11\" class=\"row_heading level0 row11\" >quality</th>\n",
       "      <td id=\"T_cf313_row11_col0\" class=\"data row11 col0\" >1599.000000</td>\n",
       "      <td id=\"T_cf313_row11_col1\" class=\"data row11 col1\" >5.636023</td>\n",
       "      <td id=\"T_cf313_row11_col2\" class=\"data row11 col2\" >0.807569</td>\n",
       "      <td id=\"T_cf313_row11_col3\" class=\"data row11 col3\" >3.000000</td>\n",
       "      <td id=\"T_cf313_row11_col4\" class=\"data row11 col4\" >5.000000</td>\n",
       "      <td id=\"T_cf313_row11_col5\" class=\"data row11 col5\" >6.000000</td>\n",
       "      <td id=\"T_cf313_row11_col6\" class=\"data row11 col6\" >6.000000</td>\n",
       "      <td id=\"T_cf313_row11_col7\" class=\"data row11 col7\" >8.000000</td>\n",
       "    </tr>\n",
       "  </tbody>\n",
       "</table>\n"
      ],
      "text/plain": [
       "<pandas.io.formats.style.Styler at 0x13f04830410>"
      ]
     },
     "execution_count": 75,
     "metadata": {},
     "output_type": "execute_result"
    }
   ],
   "source": [
    "df.describe().T.style.background_gradient(cmap = \"inferno\")"
   ]
  },
  {
   "cell_type": "code",
   "execution_count": 76,
   "metadata": {},
   "outputs": [
    {
     "data": {
      "text/plain": [
       "0       0\n",
       "1       0\n",
       "2       0\n",
       "3       1\n",
       "4       0\n",
       "       ..\n",
       "1594    0\n",
       "1595    1\n",
       "1596    1\n",
       "1597    0\n",
       "1598    1\n",
       "Name: quality, Length: 1599, dtype: int32"
      ]
     },
     "execution_count": 76,
     "metadata": {},
     "output_type": "execute_result"
    }
   ],
   "source": [
    "#categorise \"quality\" =<5 | low quality & =>6 | high quality: set as boolean\n",
    "df[\"quality\"] = np.where(df[\"quality\"] > 5, 1, 0)\n",
    "df[\"quality\"]"
   ]
  },
  {
   "cell_type": "code",
   "execution_count": 77,
   "metadata": {},
   "outputs": [],
   "source": [
    "#labe variable  appropriately |  we select dependent variable (label)\n",
    "y = df[\"quality\"]\n",
    "\n",
    "# we select independent variable\n",
    "x = df.drop(\"quality\", axis = 1)\n"
   ]
  },
  {
   "cell_type": "code",
   "execution_count": 78,
   "metadata": {},
   "outputs": [
    {
     "data": {
      "text/html": [
       "<style type=\"text/css\">\n",
       "#T_d271f_row0_col0, #T_d271f_row0_col3, #T_d271f_row1_col0, #T_d271f_row1_col3, #T_d271f_row1_col7, #T_d271f_row2_col0, #T_d271f_row2_col3, #T_d271f_row3_col0, #T_d271f_row3_col1, #T_d271f_row3_col3, #T_d271f_row3_col5, #T_d271f_row3_col6, #T_d271f_row4_col0, #T_d271f_row4_col2, #T_d271f_row4_col3, #T_d271f_row4_col7, #T_d271f_row5_col0, #T_d271f_row5_col3, #T_d271f_row6_col0, #T_d271f_row6_col3, #T_d271f_row6_col4, #T_d271f_row6_col7, #T_d271f_row7_col0, #T_d271f_row7_col3, #T_d271f_row8_col0, #T_d271f_row8_col3, #T_d271f_row9_col0, #T_d271f_row9_col3, #T_d271f_row10_col0, #T_d271f_row10_col3 {\n",
       "  background-color: #fcfbfd;\n",
       "  color: #000000;\n",
       "}\n",
       "#T_d271f_row0_col1 {\n",
       "  background-color: #8d89c0;\n",
       "  color: #f1f1f1;\n",
       "}\n",
       "#T_d271f_row0_col2 {\n",
       "  background-color: #7b74b5;\n",
       "  color: #f1f1f1;\n",
       "}\n",
       "#T_d271f_row0_col4 {\n",
       "  background-color: #a5a2cd;\n",
       "  color: #f1f1f1;\n",
       "}\n",
       "#T_d271f_row0_col5 {\n",
       "  background-color: #9d99c7;\n",
       "  color: #f1f1f1;\n",
       "}\n",
       "#T_d271f_row0_col6 {\n",
       "  background-color: #7d77b7;\n",
       "  color: #f1f1f1;\n",
       "}\n",
       "#T_d271f_row0_col7, #T_d271f_row2_col7, #T_d271f_row3_col7, #T_d271f_row5_col7, #T_d271f_row7_col7, #T_d271f_row8_col7, #T_d271f_row9_col7 {\n",
       "  background-color: #c6c7e1;\n",
       "  color: #000000;\n",
       "}\n",
       "#T_d271f_row1_col1 {\n",
       "  background-color: #acaad1;\n",
       "  color: #000000;\n",
       "}\n",
       "#T_d271f_row1_col2 {\n",
       "  background-color: #bbbbdb;\n",
       "  color: #000000;\n",
       "}\n",
       "#T_d271f_row1_col4, #T_d271f_row8_col2 {\n",
       "  background-color: #bebedd;\n",
       "  color: #000000;\n",
       "}\n",
       "#T_d271f_row1_col5 {\n",
       "  background-color: #a8a6cf;\n",
       "  color: #f1f1f1;\n",
       "}\n",
       "#T_d271f_row1_col6 {\n",
       "  background-color: #9793c5;\n",
       "  color: #f1f1f1;\n",
       "}\n",
       "#T_d271f_row2_col1 {\n",
       "  background-color: #b1b1d5;\n",
       "  color: #000000;\n",
       "}\n",
       "#T_d271f_row2_col2, #T_d271f_row7_col1, #T_d271f_row7_col4, #T_d271f_row7_col5, #T_d271f_row7_col6, #T_d271f_row10_col7 {\n",
       "  background-color: #3f007d;\n",
       "  color: #f1f1f1;\n",
       "}\n",
       "#T_d271f_row2_col4 {\n",
       "  background-color: #f2f0f7;\n",
       "  color: #000000;\n",
       "}\n",
       "#T_d271f_row2_col5 {\n",
       "  background-color: #afaed4;\n",
       "  color: #000000;\n",
       "}\n",
       "#T_d271f_row2_col6 {\n",
       "  background-color: #786db2;\n",
       "  color: #f1f1f1;\n",
       "}\n",
       "#T_d271f_row3_col2 {\n",
       "  background-color: #eae9f3;\n",
       "  color: #000000;\n",
       "}\n",
       "#T_d271f_row3_col4 {\n",
       "  background-color: #f9f7fb;\n",
       "  color: #000000;\n",
       "}\n",
       "#T_d271f_row4_col1 {\n",
       "  background-color: #f8f7fb;\n",
       "  color: #000000;\n",
       "}\n",
       "#T_d271f_row4_col4 {\n",
       "  background-color: #f0eef6;\n",
       "  color: #000000;\n",
       "}\n",
       "#T_d271f_row4_col5 {\n",
       "  background-color: #f6f5f9;\n",
       "  color: #000000;\n",
       "}\n",
       "#T_d271f_row4_col6 {\n",
       "  background-color: #f9f8fb;\n",
       "  color: #000000;\n",
       "}\n",
       "#T_d271f_row5_col1 {\n",
       "  background-color: #d9d9ea;\n",
       "  color: #000000;\n",
       "}\n",
       "#T_d271f_row5_col2 {\n",
       "  background-color: #8885be;\n",
       "  color: #f1f1f1;\n",
       "}\n",
       "#T_d271f_row5_col4, #T_d271f_row6_col1 {\n",
       "  background-color: #f4f2f8;\n",
       "  color: #000000;\n",
       "}\n",
       "#T_d271f_row5_col5 {\n",
       "  background-color: #ddddec;\n",
       "  color: #000000;\n",
       "}\n",
       "#T_d271f_row5_col6 {\n",
       "  background-color: #bebfdd;\n",
       "  color: #000000;\n",
       "}\n",
       "#T_d271f_row6_col2, #T_d271f_row10_col4 {\n",
       "  background-color: #c9c9e2;\n",
       "  color: #000000;\n",
       "}\n",
       "#T_d271f_row6_col5 {\n",
       "  background-color: #f6f4f9;\n",
       "  color: #000000;\n",
       "}\n",
       "#T_d271f_row6_col6 {\n",
       "  background-color: #e6e5f1;\n",
       "  color: #000000;\n",
       "}\n",
       "#T_d271f_row7_col2 {\n",
       "  background-color: #9a96c6;\n",
       "  color: #f1f1f1;\n",
       "}\n",
       "#T_d271f_row8_col1 {\n",
       "  background-color: #51218c;\n",
       "  color: #f1f1f1;\n",
       "}\n",
       "#T_d271f_row8_col4, #T_d271f_row8_col5 {\n",
       "  background-color: #50208c;\n",
       "  color: #f1f1f1;\n",
       "}\n",
       "#T_d271f_row8_col6 {\n",
       "  background-color: #51228d;\n",
       "  color: #f1f1f1;\n",
       "}\n",
       "#T_d271f_row9_col1 {\n",
       "  background-color: #dedeed;\n",
       "  color: #000000;\n",
       "}\n",
       "#T_d271f_row9_col2 {\n",
       "  background-color: #e3e2ef;\n",
       "  color: #000000;\n",
       "}\n",
       "#T_d271f_row9_col4 {\n",
       "  background-color: #e0dfee;\n",
       "  color: #000000;\n",
       "}\n",
       "#T_d271f_row9_col5 {\n",
       "  background-color: #e1e0ee;\n",
       "  color: #000000;\n",
       "}\n",
       "#T_d271f_row9_col6 {\n",
       "  background-color: #d5d5e9;\n",
       "  color: #000000;\n",
       "}\n",
       "#T_d271f_row10_col1 {\n",
       "  background-color: #9894c5;\n",
       "  color: #f1f1f1;\n",
       "}\n",
       "#T_d271f_row10_col2 {\n",
       "  background-color: #6c55a5;\n",
       "  color: #f1f1f1;\n",
       "}\n",
       "#T_d271f_row10_col5 {\n",
       "  background-color: #a6a3cd;\n",
       "  color: #f1f1f1;\n",
       "}\n",
       "#T_d271f_row10_col6 {\n",
       "  background-color: #7a71b4;\n",
       "  color: #f1f1f1;\n",
       "}\n",
       "</style>\n",
       "<table id=\"T_d271f\">\n",
       "  <thead>\n",
       "    <tr>\n",
       "      <th class=\"blank level0\" >&nbsp;</th>\n",
       "      <th id=\"T_d271f_level0_col0\" class=\"col_heading level0 col0\" >count</th>\n",
       "      <th id=\"T_d271f_level0_col1\" class=\"col_heading level0 col1\" >mean</th>\n",
       "      <th id=\"T_d271f_level0_col2\" class=\"col_heading level0 col2\" >std</th>\n",
       "      <th id=\"T_d271f_level0_col3\" class=\"col_heading level0 col3\" >min</th>\n",
       "      <th id=\"T_d271f_level0_col4\" class=\"col_heading level0 col4\" >25%</th>\n",
       "      <th id=\"T_d271f_level0_col5\" class=\"col_heading level0 col5\" >50%</th>\n",
       "      <th id=\"T_d271f_level0_col6\" class=\"col_heading level0 col6\" >75%</th>\n",
       "      <th id=\"T_d271f_level0_col7\" class=\"col_heading level0 col7\" >max</th>\n",
       "    </tr>\n",
       "  </thead>\n",
       "  <tbody>\n",
       "    <tr>\n",
       "      <th id=\"T_d271f_level0_row0\" class=\"row_heading level0 row0\" >fixed_acidity</th>\n",
       "      <td id=\"T_d271f_row0_col0\" class=\"data row0 col0\" >1599.000000</td>\n",
       "      <td id=\"T_d271f_row0_col1\" class=\"data row0 col1\" >0.329171</td>\n",
       "      <td id=\"T_d271f_row0_col2\" class=\"data row0 col2\" >0.154079</td>\n",
       "      <td id=\"T_d271f_row0_col3\" class=\"data row0 col3\" >0.000000</td>\n",
       "      <td id=\"T_d271f_row0_col4\" class=\"data row0 col4\" >0.221239</td>\n",
       "      <td id=\"T_d271f_row0_col5\" class=\"data row0 col5\" >0.292035</td>\n",
       "      <td id=\"T_d271f_row0_col6\" class=\"data row0 col6\" >0.407080</td>\n",
       "      <td id=\"T_d271f_row0_col7\" class=\"data row0 col7\" >1.000000</td>\n",
       "    </tr>\n",
       "    <tr>\n",
       "      <th id=\"T_d271f_level0_row1\" class=\"row_heading level0 row1\" >volatile_acidity</th>\n",
       "      <td id=\"T_d271f_row1_col0\" class=\"data row1 col0\" >1599.000000</td>\n",
       "      <td id=\"T_d271f_row1_col1\" class=\"data row1 col1\" >0.279329</td>\n",
       "      <td id=\"T_d271f_row1_col2\" class=\"data row1 col2\" >0.122644</td>\n",
       "      <td id=\"T_d271f_row1_col3\" class=\"data row1 col3\" >0.000000</td>\n",
       "      <td id=\"T_d271f_row1_col4\" class=\"data row1 col4\" >0.184932</td>\n",
       "      <td id=\"T_d271f_row1_col5\" class=\"data row1 col5\" >0.273973</td>\n",
       "      <td id=\"T_d271f_row1_col6\" class=\"data row1 col6\" >0.356164</td>\n",
       "      <td id=\"T_d271f_row1_col7\" class=\"data row1 col7\" >1.000000</td>\n",
       "    </tr>\n",
       "    <tr>\n",
       "      <th id=\"T_d271f_level0_row2\" class=\"row_heading level0 row2\" >citric_acid</th>\n",
       "      <td id=\"T_d271f_row2_col0\" class=\"data row2 col0\" >1599.000000</td>\n",
       "      <td id=\"T_d271f_row2_col1\" class=\"data row2 col1\" >0.270976</td>\n",
       "      <td id=\"T_d271f_row2_col2\" class=\"data row2 col2\" >0.194801</td>\n",
       "      <td id=\"T_d271f_row2_col3\" class=\"data row2 col3\" >0.000000</td>\n",
       "      <td id=\"T_d271f_row2_col4\" class=\"data row2 col4\" >0.090000</td>\n",
       "      <td id=\"T_d271f_row2_col5\" class=\"data row2 col5\" >0.260000</td>\n",
       "      <td id=\"T_d271f_row2_col6\" class=\"data row2 col6\" >0.420000</td>\n",
       "      <td id=\"T_d271f_row2_col7\" class=\"data row2 col7\" >1.000000</td>\n",
       "    </tr>\n",
       "    <tr>\n",
       "      <th id=\"T_d271f_level0_row3\" class=\"row_heading level0 row3\" >residual_sugar</th>\n",
       "      <td id=\"T_d271f_row3_col0\" class=\"data row3 col0\" >1599.000000</td>\n",
       "      <td id=\"T_d271f_row3_col1\" class=\"data row3 col1\" >0.112247</td>\n",
       "      <td id=\"T_d271f_row3_col2\" class=\"data row3 col2\" >0.096570</td>\n",
       "      <td id=\"T_d271f_row3_col3\" class=\"data row3 col3\" >0.000000</td>\n",
       "      <td id=\"T_d271f_row3_col4\" class=\"data row3 col4\" >0.068493</td>\n",
       "      <td id=\"T_d271f_row3_col5\" class=\"data row3 col5\" >0.089041</td>\n",
       "      <td id=\"T_d271f_row3_col6\" class=\"data row3 col6\" >0.116438</td>\n",
       "      <td id=\"T_d271f_row3_col7\" class=\"data row3 col7\" >1.000000</td>\n",
       "    </tr>\n",
       "    <tr>\n",
       "      <th id=\"T_d271f_level0_row4\" class=\"row_heading level0 row4\" >chlorides</th>\n",
       "      <td id=\"T_d271f_row4_col0\" class=\"data row4 col0\" >1599.000000</td>\n",
       "      <td id=\"T_d271f_row4_col1\" class=\"data row4 col1\" >0.125988</td>\n",
       "      <td id=\"T_d271f_row4_col2\" class=\"data row4 col2\" >0.078573</td>\n",
       "      <td id=\"T_d271f_row4_col3\" class=\"data row4 col3\" >0.000000</td>\n",
       "      <td id=\"T_d271f_row4_col4\" class=\"data row4 col4\" >0.096828</td>\n",
       "      <td id=\"T_d271f_row4_col5\" class=\"data row4 col5\" >0.111853</td>\n",
       "      <td id=\"T_d271f_row4_col6\" class=\"data row4 col6\" >0.130217</td>\n",
       "      <td id=\"T_d271f_row4_col7\" class=\"data row4 col7\" >1.000000</td>\n",
       "    </tr>\n",
       "    <tr>\n",
       "      <th id=\"T_d271f_level0_row5\" class=\"row_heading level0 row5\" >free_sulfur_dioxide</th>\n",
       "      <td id=\"T_d271f_row5_col0\" class=\"data row5 col0\" >1599.000000</td>\n",
       "      <td id=\"T_d271f_row5_col1\" class=\"data row5 col1\" >0.209506</td>\n",
       "      <td id=\"T_d271f_row5_col2\" class=\"data row5 col2\" >0.147326</td>\n",
       "      <td id=\"T_d271f_row5_col3\" class=\"data row5 col3\" >0.000000</td>\n",
       "      <td id=\"T_d271f_row5_col4\" class=\"data row5 col4\" >0.084507</td>\n",
       "      <td id=\"T_d271f_row5_col5\" class=\"data row5 col5\" >0.183099</td>\n",
       "      <td id=\"T_d271f_row5_col6\" class=\"data row5 col6\" >0.281690</td>\n",
       "      <td id=\"T_d271f_row5_col7\" class=\"data row5 col7\" >1.000000</td>\n",
       "    </tr>\n",
       "    <tr>\n",
       "      <th id=\"T_d271f_level0_row6\" class=\"row_heading level0 row6\" >total_sulfur_dioxide</th>\n",
       "      <td id=\"T_d271f_row6_col0\" class=\"data row6 col0\" >1599.000000</td>\n",
       "      <td id=\"T_d271f_row6_col1\" class=\"data row6 col1\" >0.142996</td>\n",
       "      <td id=\"T_d271f_row6_col2\" class=\"data row6 col2\" >0.116238</td>\n",
       "      <td id=\"T_d271f_row6_col3\" class=\"data row6 col3\" >0.000000</td>\n",
       "      <td id=\"T_d271f_row6_col4\" class=\"data row6 col4\" >0.056537</td>\n",
       "      <td id=\"T_d271f_row6_col5\" class=\"data row6 col5\" >0.113074</td>\n",
       "      <td id=\"T_d271f_row6_col6\" class=\"data row6 col6\" >0.197880</td>\n",
       "      <td id=\"T_d271f_row6_col7\" class=\"data row6 col7\" >1.000000</td>\n",
       "    </tr>\n",
       "    <tr>\n",
       "      <th id=\"T_d271f_level0_row7\" class=\"row_heading level0 row7\" >density</th>\n",
       "      <td id=\"T_d271f_row7_col0\" class=\"data row7 col0\" >1599.000000</td>\n",
       "      <td id=\"T_d271f_row7_col1\" class=\"data row7 col1\" >0.490211</td>\n",
       "      <td id=\"T_d271f_row7_col2\" class=\"data row7 col2\" >0.138571</td>\n",
       "      <td id=\"T_d271f_row7_col3\" class=\"data row7 col3\" >0.000000</td>\n",
       "      <td id=\"T_d271f_row7_col4\" class=\"data row7 col4\" >0.406021</td>\n",
       "      <td id=\"T_d271f_row7_col5\" class=\"data row7 col5\" >0.490455</td>\n",
       "      <td id=\"T_d271f_row7_col6\" class=\"data row7 col6\" >0.570117</td>\n",
       "      <td id=\"T_d271f_row7_col7\" class=\"data row7 col7\" >1.000000</td>\n",
       "    </tr>\n",
       "    <tr>\n",
       "      <th id=\"T_d271f_level0_row8\" class=\"row_heading level0 row8\" >pH</th>\n",
       "      <td id=\"T_d271f_row8_col0\" class=\"data row8 col0\" >1599.000000</td>\n",
       "      <td id=\"T_d271f_row8_col1\" class=\"data row8 col1\" >0.449695</td>\n",
       "      <td id=\"T_d271f_row8_col2\" class=\"data row8 col2\" >0.121564</td>\n",
       "      <td id=\"T_d271f_row8_col3\" class=\"data row8 col3\" >0.000000</td>\n",
       "      <td id=\"T_d271f_row8_col4\" class=\"data row8 col4\" >0.370079</td>\n",
       "      <td id=\"T_d271f_row8_col5\" class=\"data row8 col5\" >0.448819</td>\n",
       "      <td id=\"T_d271f_row8_col6\" class=\"data row8 col6\" >0.519685</td>\n",
       "      <td id=\"T_d271f_row8_col7\" class=\"data row8 col7\" >1.000000</td>\n",
       "    </tr>\n",
       "    <tr>\n",
       "      <th id=\"T_d271f_level0_row9\" class=\"row_heading level0 row9\" >sulphates</th>\n",
       "      <td id=\"T_d271f_row9_col0\" class=\"data row9 col0\" >1599.000000</td>\n",
       "      <td id=\"T_d271f_row9_col1\" class=\"data row9 col1\" >0.196496</td>\n",
       "      <td id=\"T_d271f_row9_col2\" class=\"data row9 col2\" >0.101501</td>\n",
       "      <td id=\"T_d271f_row9_col3\" class=\"data row9 col3\" >0.000000</td>\n",
       "      <td id=\"T_d271f_row9_col4\" class=\"data row9 col4\" >0.131737</td>\n",
       "      <td id=\"T_d271f_row9_col5\" class=\"data row9 col5\" >0.173653</td>\n",
       "      <td id=\"T_d271f_row9_col6\" class=\"data row9 col6\" >0.239521</td>\n",
       "      <td id=\"T_d271f_row9_col7\" class=\"data row9 col7\" >1.000000</td>\n",
       "    </tr>\n",
       "    <tr>\n",
       "      <th id=\"T_d271f_level0_row10\" class=\"row_heading level0 row10\" >alcohol</th>\n",
       "      <td id=\"T_d271f_row10_col0\" class=\"data row10 col0\" >1599.000000</td>\n",
       "      <td id=\"T_d271f_row10_col1\" class=\"data row10 col1\" >0.311228</td>\n",
       "      <td id=\"T_d271f_row10_col2\" class=\"data row10 col2\" >0.163949</td>\n",
       "      <td id=\"T_d271f_row10_col3\" class=\"data row10 col3\" >0.000000</td>\n",
       "      <td id=\"T_d271f_row10_col4\" class=\"data row10 col4\" >0.169231</td>\n",
       "      <td id=\"T_d271f_row10_col5\" class=\"data row10 col5\" >0.276923</td>\n",
       "      <td id=\"T_d271f_row10_col6\" class=\"data row10 col6\" >0.415385</td>\n",
       "      <td id=\"T_d271f_row10_col7\" class=\"data row10 col7\" >1.000000</td>\n",
       "    </tr>\n",
       "  </tbody>\n",
       "</table>\n"
      ],
      "text/plain": [
       "<pandas.io.formats.style.Styler at 0x13f06bc8790>"
      ]
     },
     "execution_count": 78,
     "metadata": {},
     "output_type": "execute_result"
    }
   ],
   "source": [
    "scaler = MinMaxScaler(feature_range=(0, 1)).fit_transform(x)\n",
    "X = pd.DataFrame(scaler, columns=x.columns)\n",
    "X.describe().T.style.background_gradient(axis=0, cmap='Purples')"
   ]
  },
  {
   "cell_type": "code",
   "execution_count": 79,
   "metadata": {},
   "outputs": [],
   "source": [
    "# Split into train and test sections\n",
    "\n",
    "x_train, x_test, y_train, y_test = train_test_split(x, y,\n",
    "                                                    test_size = 0.2,\n",
    "                                                    shuffle = True,\n",
    "                                                    random_state = 1)\n",
    "\n"
   ]
  },
  {
   "cell_type": "markdown",
   "metadata": {},
   "source": [
    "## MODELLING ##"
   ]
  },
  {
   "cell_type": "code",
   "execution_count": 88,
   "metadata": {},
   "outputs": [
    {
     "data": {
      "text/html": [
       "<style>#sk-container-id-6 {color: black;background-color: white;}#sk-container-id-6 pre{padding: 0;}#sk-container-id-6 div.sk-toggleable {background-color: white;}#sk-container-id-6 label.sk-toggleable__label {cursor: pointer;display: block;width: 100%;margin-bottom: 0;padding: 0.3em;box-sizing: border-box;text-align: center;}#sk-container-id-6 label.sk-toggleable__label-arrow:before {content: \"▸\";float: left;margin-right: 0.25em;color: #696969;}#sk-container-id-6 label.sk-toggleable__label-arrow:hover:before {color: black;}#sk-container-id-6 div.sk-estimator:hover label.sk-toggleable__label-arrow:before {color: black;}#sk-container-id-6 div.sk-toggleable__content {max-height: 0;max-width: 0;overflow: hidden;text-align: left;background-color: #f0f8ff;}#sk-container-id-6 div.sk-toggleable__content pre {margin: 0.2em;color: black;border-radius: 0.25em;background-color: #f0f8ff;}#sk-container-id-6 input.sk-toggleable__control:checked~div.sk-toggleable__content {max-height: 200px;max-width: 100%;overflow: auto;}#sk-container-id-6 input.sk-toggleable__control:checked~label.sk-toggleable__label-arrow:before {content: \"▾\";}#sk-container-id-6 div.sk-estimator input.sk-toggleable__control:checked~label.sk-toggleable__label {background-color: #d4ebff;}#sk-container-id-6 div.sk-label input.sk-toggleable__control:checked~label.sk-toggleable__label {background-color: #d4ebff;}#sk-container-id-6 input.sk-hidden--visually {border: 0;clip: rect(1px 1px 1px 1px);clip: rect(1px, 1px, 1px, 1px);height: 1px;margin: -1px;overflow: hidden;padding: 0;position: absolute;width: 1px;}#sk-container-id-6 div.sk-estimator {font-family: monospace;background-color: #f0f8ff;border: 1px dotted black;border-radius: 0.25em;box-sizing: border-box;margin-bottom: 0.5em;}#sk-container-id-6 div.sk-estimator:hover {background-color: #d4ebff;}#sk-container-id-6 div.sk-parallel-item::after {content: \"\";width: 100%;border-bottom: 1px solid gray;flex-grow: 1;}#sk-container-id-6 div.sk-label:hover label.sk-toggleable__label {background-color: #d4ebff;}#sk-container-id-6 div.sk-serial::before {content: \"\";position: absolute;border-left: 1px solid gray;box-sizing: border-box;top: 0;bottom: 0;left: 50%;z-index: 0;}#sk-container-id-6 div.sk-serial {display: flex;flex-direction: column;align-items: center;background-color: white;padding-right: 0.2em;padding-left: 0.2em;position: relative;}#sk-container-id-6 div.sk-item {position: relative;z-index: 1;}#sk-container-id-6 div.sk-parallel {display: flex;align-items: stretch;justify-content: center;background-color: white;position: relative;}#sk-container-id-6 div.sk-item::before, #sk-container-id-6 div.sk-parallel-item::before {content: \"\";position: absolute;border-left: 1px solid gray;box-sizing: border-box;top: 0;bottom: 0;left: 50%;z-index: -1;}#sk-container-id-6 div.sk-parallel-item {display: flex;flex-direction: column;z-index: 1;position: relative;background-color: white;}#sk-container-id-6 div.sk-parallel-item:first-child::after {align-self: flex-end;width: 50%;}#sk-container-id-6 div.sk-parallel-item:last-child::after {align-self: flex-start;width: 50%;}#sk-container-id-6 div.sk-parallel-item:only-child::after {width: 0;}#sk-container-id-6 div.sk-dashed-wrapped {border: 1px dashed gray;margin: 0 0.4em 0.5em 0.4em;box-sizing: border-box;padding-bottom: 0.4em;background-color: white;}#sk-container-id-6 div.sk-label label {font-family: monospace;font-weight: bold;display: inline-block;line-height: 1.2em;}#sk-container-id-6 div.sk-label-container {text-align: center;}#sk-container-id-6 div.sk-container {/* jupyter's `normalize.less` sets `[hidden] { display: none; }` but bootstrap.min.css set `[hidden] { display: none !important; }` so we also need the `!important` here to be able to override the default hidden behavior on the sphinx rendered scikit-learn.org. See: https://github.com/scikit-learn/scikit-learn/issues/21755 */display: inline-block !important;position: relative;}#sk-container-id-6 div.sk-text-repr-fallback {display: none;}</style><div id=\"sk-container-id-6\" class=\"sk-top-container\"><div class=\"sk-text-repr-fallback\"><pre>RandomForestRegressor(max_depth=2, random_state=42)</pre><b>In a Jupyter environment, please rerun this cell to show the HTML representation or trust the notebook. <br />On GitHub, the HTML representation is unable to render, please try loading this page with nbviewer.org.</b></div><div class=\"sk-container\" hidden><div class=\"sk-item\"><div class=\"sk-estimator sk-toggleable\"><input class=\"sk-toggleable__control sk-hidden--visually\" id=\"sk-estimator-id-6\" type=\"checkbox\" checked><label for=\"sk-estimator-id-6\" class=\"sk-toggleable__label sk-toggleable__label-arrow\">RandomForestRegressor</label><div class=\"sk-toggleable__content\"><pre>RandomForestRegressor(max_depth=2, random_state=42)</pre></div></div></div></div></div>"
      ],
      "text/plain": [
       "RandomForestRegressor(max_depth=2, random_state=42)"
      ]
     },
     "execution_count": 88,
     "metadata": {},
     "output_type": "execute_result"
    }
   ],
   "source": [
    "# Fit a model on the train section\n",
    "from sklearn.ensemble import RandomForestRegressor \n",
    "regr = RandomForestRegressor(max_depth=2, random_state=seed)\n",
    "regr.fit(x_train, y_train)"
   ]
  },
  {
   "cell_type": "code",
   "execution_count": 90,
   "metadata": {},
   "outputs": [
    {
     "name": "stdout",
     "output_type": "stream",
     "text": [
      "27.666028912912044 26.596304170161023\n"
     ]
    }
   ],
   "source": [
    "# Report training set score\n",
    "train_score = regr.score(x_train, y_train) * 100\n",
    "# Report test set score\n",
    "test_score = regr.score(x_test, y_test) * 100\n",
    "\n",
    "print(train_score, test_score)"
   ]
  },
  {
   "cell_type": "code",
   "execution_count": 83,
   "metadata": {},
   "outputs": [
    {
     "data": {
      "image/png": "[encoded data removed]",
      "text/plain": [
       "<Figure size 640x480 with 1 Axes>"
      ]
     },
     "metadata": {},
     "output_type": "display_data"
    }
   ],
   "source": [
    "# Calculate feature importance in random forest\n",
    "importances = regr.feature_importances_\n",
    "labels = df.columns\n",
    "feature_df = pd.DataFrame(list(zip(labels, importances)), columns = [\"feature\",\"importance\"])\n",
    "feature_df = feature_df.sort_values(by='importance', ascending=False,)\n",
    "\n",
    "# image formatting\n",
    "axis_fs = 18 #fontsize\n",
    "title_fs = 22 #fontsize\n",
    "sns.set(style=\"whitegrid\")\n",
    "\n",
    "ax = sns.barplot(x=\"importance\", y=\"feature\", data=feature_df)\n",
    "ax.set_xlabel('Importance',fontsize = axis_fs) \n",
    "ax.set_ylabel('Feature', fontsize = axis_fs)#ylabel\n",
    "ax.set_title('Random forest\\nfeature importance', fontsize = title_fs)\n",
    "\n",
    "plt.tight_layout()\n",
    "plt.savefig(\"feature_importance.png\",dpi=120) \n",
    "plt.show()\n",
    "plt.close()"
   ]
  },
  {
   "cell_type": "markdown",
   "metadata": {},
   "source": [
    "Build KNN classification model"
   ]
  },
  {
   "cell_type": "code",
   "execution_count": 91,
   "metadata": {},
   "outputs": [],
   "source": [
    "# import KNeighbors ClaSSifier from sklearn\n",
    "from sklearn.neighbors import KNeighborsClassifier"
   ]
  },
  {
   "cell_type": "code",
   "execution_count": 92,
   "metadata": {},
   "outputs": [],
   "source": [
    "# instantiate the model\n",
    "knn = KNeighborsClassifier(n_neighbors=3)"
   ]
  },
  {
   "cell_type": "code",
   "execution_count": 93,
   "metadata": {},
   "outputs": [
    {
     "data": {
      "text/html": [
       "<style>#sk-container-id-7 {color: black;background-color: white;}#sk-container-id-7 pre{padding: 0;}#sk-container-id-7 div.sk-toggleable {background-color: white;}#sk-container-id-7 label.sk-toggleable__label {cursor: pointer;display: block;width: 100%;margin-bottom: 0;padding: 0.3em;box-sizing: border-box;text-align: center;}#sk-container-id-7 label.sk-toggleable__label-arrow:before {content: \"▸\";float: left;margin-right: 0.25em;color: #696969;}#sk-container-id-7 label.sk-toggleable__label-arrow:hover:before {color: black;}#sk-container-id-7 div.sk-estimator:hover label.sk-toggleable__label-arrow:before {color: black;}#sk-container-id-7 div.sk-toggleable__content {max-height: 0;max-width: 0;overflow: hidden;text-align: left;background-color: #f0f8ff;}#sk-container-id-7 div.sk-toggleable__content pre {margin: 0.2em;color: black;border-radius: 0.25em;background-color: #f0f8ff;}#sk-container-id-7 input.sk-toggleable__control:checked~div.sk-toggleable__content {max-height: 200px;max-width: 100%;overflow: auto;}#sk-container-id-7 input.sk-toggleable__control:checked~label.sk-toggleable__label-arrow:before {content: \"▾\";}#sk-container-id-7 div.sk-estimator input.sk-toggleable__control:checked~label.sk-toggleable__label {background-color: #d4ebff;}#sk-container-id-7 div.sk-label input.sk-toggleable__control:checked~label.sk-toggleable__label {background-color: #d4ebff;}#sk-container-id-7 input.sk-hidden--visually {border: 0;clip: rect(1px 1px 1px 1px);clip: rect(1px, 1px, 1px, 1px);height: 1px;margin: -1px;overflow: hidden;padding: 0;position: absolute;width: 1px;}#sk-container-id-7 div.sk-estimator {font-family: monospace;background-color: #f0f8ff;border: 1px dotted black;border-radius: 0.25em;box-sizing: border-box;margin-bottom: 0.5em;}#sk-container-id-7 div.sk-estimator:hover {background-color: #d4ebff;}#sk-container-id-7 div.sk-parallel-item::after {content: \"\";width: 100%;border-bottom: 1px solid gray;flex-grow: 1;}#sk-container-id-7 div.sk-label:hover label.sk-toggleable__label {background-color: #d4ebff;}#sk-container-id-7 div.sk-serial::before {content: \"\";position: absolute;border-left: 1px solid gray;box-sizing: border-box;top: 0;bottom: 0;left: 50%;z-index: 0;}#sk-container-id-7 div.sk-serial {display: flex;flex-direction: column;align-items: center;background-color: white;padding-right: 0.2em;padding-left: 0.2em;position: relative;}#sk-container-id-7 div.sk-item {position: relative;z-index: 1;}#sk-container-id-7 div.sk-parallel {display: flex;align-items: stretch;justify-content: center;background-color: white;position: relative;}#sk-container-id-7 div.sk-item::before, #sk-container-id-7 div.sk-parallel-item::before {content: \"\";position: absolute;border-left: 1px solid gray;box-sizing: border-box;top: 0;bottom: 0;left: 50%;z-index: -1;}#sk-container-id-7 div.sk-parallel-item {display: flex;flex-direction: column;z-index: 1;position: relative;background-color: white;}#sk-container-id-7 div.sk-parallel-item:first-child::after {align-self: flex-end;width: 50%;}#sk-container-id-7 div.sk-parallel-item:last-child::after {align-self: flex-start;width: 50%;}#sk-container-id-7 div.sk-parallel-item:only-child::after {width: 0;}#sk-container-id-7 div.sk-dashed-wrapped {border: 1px dashed gray;margin: 0 0.4em 0.5em 0.4em;box-sizing: border-box;padding-bottom: 0.4em;background-color: white;}#sk-container-id-7 div.sk-label label {font-family: monospace;font-weight: bold;display: inline-block;line-height: 1.2em;}#sk-container-id-7 div.sk-label-container {text-align: center;}#sk-container-id-7 div.sk-container {/* jupyter's `normalize.less` sets `[hidden] { display: none; }` but bootstrap.min.css set `[hidden] { display: none !important; }` so we also need the `!important` here to be able to override the default hidden behavior on the sphinx rendered scikit-learn.org. See: https://github.com/scikit-learn/scikit-learn/issues/21755 */display: inline-block !important;position: relative;}#sk-container-id-7 div.sk-text-repr-fallback {display: none;}</style><div id=\"sk-container-id-7\" class=\"sk-top-container\"><div class=\"sk-text-repr-fallback\"><pre>KNeighborsClassifier(n_neighbors=3)</pre><b>In a Jupyter environment, please rerun this cell to show the HTML representation or trust the notebook. <br />On GitHub, the HTML representation is unable to render, please try loading this page with nbviewer.org.</b></div><div class=\"sk-container\" hidden><div class=\"sk-item\"><div class=\"sk-estimator sk-toggleable\"><input class=\"sk-toggleable__control sk-hidden--visually\" id=\"sk-estimator-id-7\" type=\"checkbox\" checked><label for=\"sk-estimator-id-7\" class=\"sk-toggleable__label sk-toggleable__label-arrow\">KNeighborsClassifier</label><div class=\"sk-toggleable__content\"><pre>KNeighborsClassifier(n_neighbors=3)</pre></div></div></div></div></div>"
      ],
      "text/plain": [
       "KNeighborsClassifier(n_neighbors=3)"
      ]
     },
     "execution_count": 93,
     "metadata": {},
     "output_type": "execute_result"
    }
   ],
   "source": [
    "# fit the model to the training set\n",
    "knn.fit(x_train, y_train)"
   ]
  },
  {
   "cell_type": "markdown",
   "metadata": {},
   "source": [
    "# Model Evaluation "
   ]
  },
  {
   "cell_type": "code",
   "execution_count": 98,
   "metadata": {},
   "outputs": [],
   "source": [
    "#determine predicted y values \n",
    "y_pred = knn.predict(x_test)\n",
    "\n"
   ]
  },
  {
   "cell_type": "code",
   "execution_count": 97,
   "metadata": {},
   "outputs": [
    {
     "data": {
      "text/plain": [
       "0.6625"
      ]
     },
     "execution_count": 97,
     "metadata": {},
     "output_type": "execute_result"
    }
   ],
   "source": [
    "# knn model score \n",
    "knn.score(x_test, y_test)\n",
    "\n",
    "from sklearn.metrics import accuracy_score\n",
    "\n",
    "accuracy_score(y_test, y_pred)"
   ]
  },
  {
   "cell_type": "code",
   "execution_count": 99,
   "metadata": {},
   "outputs": [
    {
     "name": "stdout",
     "output_type": "stream",
     "text": [
      "              precision    recall  f1-score   support\n",
      "\n",
      "           0       0.64      0.67      0.66       154\n",
      "           1       0.68      0.66      0.67       166\n",
      "\n",
      "    accuracy                           0.66       320\n",
      "   macro avg       0.66      0.66      0.66       320\n",
      "weighted avg       0.66      0.66      0.66       320\n",
      "\n"
     ]
    }
   ],
   "source": [
    "#classification report \n",
    "from sklearn.metrics import classification_report\n",
    "print(classification_report(y_test, y_pred))"
   ]
  },
  {
   "cell_type": "code",
   "execution_count": 112,
   "metadata": {},
   "outputs": [
    {
     "name": "stdout",
     "output_type": "stream",
     "text": [
      "[[103  51]\n",
      " [ 57 109]]\n"
     ]
    }
   ],
   "source": [
    "#confusion matrix \n",
    "from sklearn.metrics import confusion_matrix\n",
    "\n",
    "cf_matrix = confusion_matrix(y_test, y_pred)\n",
    "print (cf_matrix)"
   ]
  },
  {
   "cell_type": "code",
   "execution_count": 113,
   "metadata": {},
   "outputs": [
    {
     "data": {
      "text/plain": [
       "<Axes: >"
      ]
     },
     "execution_count": 113,
     "metadata": {},
     "output_type": "execute_result"
    },
    {
     "data": {
      "image/png": "[encoded data removed]",
      "text/plain": [
       "<Figure size 640x480 with 2 Axes>"
      ]
     },
     "metadata": {},
     "output_type": "display_data"
    }
   ],
   "source": [
    "import seaborn as sns\n",
    "\n",
    "sns.heatmap(cf_matrix, annot=True)"
   ]
  },
  {
   "cell_type": "code",
   "execution_count": 115,
   "metadata": {},
   "outputs": [
    {
     "data": {
      "text/plain": [
       "<Axes: >"
      ]
     },
     "execution_count": 115,
     "metadata": {},
     "output_type": "execute_result"
    },
    {
     "data": {
      "image/png": "[encoded data removed]",
      "text/plain": [
       "<Figure size 640x480 with 2 Axes>"
      ]
     },
     "metadata": {},
     "output_type": "display_data"
    }
   ],
   "source": [
    "sns.heatmap(cf_matrix/np.sum(cf_matrix), annot=True, \n",
    "            fmt='.2%', cmap='Blues')"
   ]
  },
  {
   "cell_type": "markdown",
   "metadata": {},
   "source": [
    "# Hyperparameter tuning for random forest regressor"
   ]
  },
  {
   "cell_type": "code",
   "execution_count": 129,
   "metadata": {},
   "outputs": [
    {
     "data": {
      "text/html": [
       "<style>#sk-container-id-8 {color: black;background-color: white;}#sk-container-id-8 pre{padding: 0;}#sk-container-id-8 div.sk-toggleable {background-color: white;}#sk-container-id-8 label.sk-toggleable__label {cursor: pointer;display: block;width: 100%;margin-bottom: 0;padding: 0.3em;box-sizing: border-box;text-align: center;}#sk-container-id-8 label.sk-toggleable__label-arrow:before {content: \"▸\";float: left;margin-right: 0.25em;color: #696969;}#sk-container-id-8 label.sk-toggleable__label-arrow:hover:before {color: black;}#sk-container-id-8 div.sk-estimator:hover label.sk-toggleable__label-arrow:before {color: black;}#sk-container-id-8 div.sk-toggleable__content {max-height: 0;max-width: 0;overflow: hidden;text-align: left;background-color: #f0f8ff;}#sk-container-id-8 div.sk-toggleable__content pre {margin: 0.2em;color: black;border-radius: 0.25em;background-color: #f0f8ff;}#sk-container-id-8 input.sk-toggleable__control:checked~div.sk-toggleable__content {max-height: 200px;max-width: 100%;overflow: auto;}#sk-container-id-8 input.sk-toggleable__control:checked~label.sk-toggleable__label-arrow:before {content: \"▾\";}#sk-container-id-8 div.sk-estimator input.sk-toggleable__control:checked~label.sk-toggleable__label {background-color: #d4ebff;}#sk-container-id-8 div.sk-label input.sk-toggleable__control:checked~label.sk-toggleable__label {background-color: #d4ebff;}#sk-container-id-8 input.sk-hidden--visually {border: 0;clip: rect(1px 1px 1px 1px);clip: rect(1px, 1px, 1px, 1px);height: 1px;margin: -1px;overflow: hidden;padding: 0;position: absolute;width: 1px;}#sk-container-id-8 div.sk-estimator {font-family: monospace;background-color: #f0f8ff;border: 1px dotted black;border-radius: 0.25em;box-sizing: border-box;margin-bottom: 0.5em;}#sk-container-id-8 div.sk-estimator:hover {background-color: #d4ebff;}#sk-container-id-8 div.sk-parallel-item::after {content: \"\";width: 100%;border-bottom: 1px solid gray;flex-grow: 1;}#sk-container-id-8 div.sk-label:hover label.sk-toggleable__label {background-color: #d4ebff;}#sk-container-id-8 div.sk-serial::before {content: \"\";position: absolute;border-left: 1px solid gray;box-sizing: border-box;top: 0;bottom: 0;left: 50%;z-index: 0;}#sk-container-id-8 div.sk-serial {display: flex;flex-direction: column;align-items: center;background-color: white;padding-right: 0.2em;padding-left: 0.2em;position: relative;}#sk-container-id-8 div.sk-item {position: relative;z-index: 1;}#sk-container-id-8 div.sk-parallel {display: flex;align-items: stretch;justify-content: center;background-color: white;position: relative;}#sk-container-id-8 div.sk-item::before, #sk-container-id-8 div.sk-parallel-item::before {content: \"\";position: absolute;border-left: 1px solid gray;box-sizing: border-box;top: 0;bottom: 0;left: 50%;z-index: -1;}#sk-container-id-8 div.sk-parallel-item {display: flex;flex-direction: column;z-index: 1;position: relative;background-color: white;}#sk-container-id-8 div.sk-parallel-item:first-child::after {align-self: flex-end;width: 50%;}#sk-container-id-8 div.sk-parallel-item:last-child::after {align-self: flex-start;width: 50%;}#sk-container-id-8 div.sk-parallel-item:only-child::after {width: 0;}#sk-container-id-8 div.sk-dashed-wrapped {border: 1px dashed gray;margin: 0 0.4em 0.5em 0.4em;box-sizing: border-box;padding-bottom: 0.4em;background-color: white;}#sk-container-id-8 div.sk-label label {font-family: monospace;font-weight: bold;display: inline-block;line-height: 1.2em;}#sk-container-id-8 div.sk-label-container {text-align: center;}#sk-container-id-8 div.sk-container {/* jupyter's `normalize.less` sets `[hidden] { display: none; }` but bootstrap.min.css set `[hidden] { display: none !important; }` so we also need the `!important` here to be able to override the default hidden behavior on the sphinx rendered scikit-learn.org. See: https://github.com/scikit-learn/scikit-learn/issues/21755 */display: inline-block !important;position: relative;}#sk-container-id-8 div.sk-text-repr-fallback {display: none;}</style><div id=\"sk-container-id-8\" class=\"sk-top-container\"><div class=\"sk-text-repr-fallback\"><pre>GridSearchCV(cv=10, estimator=KNeighborsClassifier(n_neighbors=3),\n",
       "             param_grid={&#x27;leaf_size&#x27;: [25, 30, 25],\n",
       "                         &#x27;n_neighbors&#x27;: array([ 2,  3,  4,  5,  6,  7,  8,  9, 10, 11, 12, 13, 14, 15, 16, 17, 18,\n",
       "       19, 20, 21, 22, 23, 24, 25, 26, 27, 28, 29, 30, 31, 32, 33, 34, 35,\n",
       "       36, 37, 38, 39, 40, 41, 42, 43, 44, 45, 46, 47, 48, 49]),\n",
       "                         &#x27;weights&#x27;: [&#x27;uniform&#x27;, &#x27;distance&#x27;]})</pre><b>In a Jupyter environment, please rerun this cell to show the HTML representation or trust the notebook. <br />On GitHub, the HTML representation is unable to render, please try loading this page with nbviewer.org.</b></div><div class=\"sk-container\" hidden><div class=\"sk-item sk-dashed-wrapped\"><div class=\"sk-label-container\"><div class=\"sk-label sk-toggleable\"><input class=\"sk-toggleable__control sk-hidden--visually\" id=\"sk-estimator-id-8\" type=\"checkbox\" ><label for=\"sk-estimator-id-8\" class=\"sk-toggleable__label sk-toggleable__label-arrow\">GridSearchCV</label><div class=\"sk-toggleable__content\"><pre>GridSearchCV(cv=10, estimator=KNeighborsClassifier(n_neighbors=3),\n",
       "             param_grid={&#x27;leaf_size&#x27;: [25, 30, 25],\n",
       "                         &#x27;n_neighbors&#x27;: array([ 2,  3,  4,  5,  6,  7,  8,  9, 10, 11, 12, 13, 14, 15, 16, 17, 18,\n",
       "       19, 20, 21, 22, 23, 24, 25, 26, 27, 28, 29, 30, 31, 32, 33, 34, 35,\n",
       "       36, 37, 38, 39, 40, 41, 42, 43, 44, 45, 46, 47, 48, 49]),\n",
       "                         &#x27;weights&#x27;: [&#x27;uniform&#x27;, &#x27;distance&#x27;]})</pre></div></div></div><div class=\"sk-parallel\"><div class=\"sk-parallel-item\"><div class=\"sk-item\"><div class=\"sk-label-container\"><div class=\"sk-label sk-toggleable\"><input class=\"sk-toggleable__control sk-hidden--visually\" id=\"sk-estimator-id-9\" type=\"checkbox\" ><label for=\"sk-estimator-id-9\" class=\"sk-toggleable__label sk-toggleable__label-arrow\">estimator: KNeighborsClassifier</label><div class=\"sk-toggleable__content\"><pre>KNeighborsClassifier(n_neighbors=3)</pre></div></div></div><div class=\"sk-serial\"><div class=\"sk-item\"><div class=\"sk-estimator sk-toggleable\"><input class=\"sk-toggleable__control sk-hidden--visually\" id=\"sk-estimator-id-10\" type=\"checkbox\" ><label for=\"sk-estimator-id-10\" class=\"sk-toggleable__label sk-toggleable__label-arrow\">KNeighborsClassifier</label><div class=\"sk-toggleable__content\"><pre>KNeighborsClassifier(n_neighbors=3)</pre></div></div></div></div></div></div></div></div></div></div>"
      ],
      "text/plain": [
       "GridSearchCV(cv=10, estimator=KNeighborsClassifier(n_neighbors=3),\n",
       "             param_grid={'leaf_size': [25, 30, 25],\n",
       "                         'n_neighbors': array([ 2,  3,  4,  5,  6,  7,  8,  9, 10, 11, 12, 13, 14, 15, 16, 17, 18,\n",
       "       19, 20, 21, 22, 23, 24, 25, 26, 27, 28, 29, 30, 31, 32, 33, 34, 35,\n",
       "       36, 37, 38, 39, 40, 41, 42, 43, 44, 45, 46, 47, 48, 49]),\n",
       "                         'weights': ['uniform', 'distance']})"
      ]
     },
     "execution_count": 129,
     "metadata": {},
     "output_type": "execute_result"
    }
   ],
   "source": [
    "#define knn parameters and args\n",
    "knn_params = {\"n_neighbors\": np.arange(2, 50),\n",
    "             \"weights\": [\"uniform\", \"distance\"],\n",
    "             \"leaf_size\": [25, 30, 25]}\n",
    "\n",
    "knn_cv_model = GridSearchCV(knn, knn_params, cv = 10)\n",
    "knn_cv_model.fit(x_train, y_train)\n"
   ]
  },
  {
   "cell_type": "code",
   "execution_count": 130,
   "metadata": {},
   "outputs": [
    {
     "name": "stdout",
     "output_type": "stream",
     "text": [
      "Best score for train set: 0.7483021653543307\n",
      "____________________________________________\n",
      "best K value: 21 \n",
      "best weights: distance \n",
      "best leaf size: 25\n"
     ]
    }
   ],
   "source": [
    "# get best parameters for KNN \n",
    "print(\"Best score for train set: \" + str(knn_cv_model.best_score_))\n",
    "\n",
    "print(\"____________________________________________\")\n",
    "\n",
    "print(\"best K value: \" + str(knn_cv_model.best_params_[\"n_neighbors\"]),\n",
    "     \"\\nbest weights: \" + knn_cv_model.best_params_[\"weights\"],\n",
    "     \"\\nbest leaf size: \" + str(knn_cv_model.best_params_[\"leaf_size\"]))"
   ]
  },
  {
   "cell_type": "code",
   "execution_count": 131,
   "metadata": {},
   "outputs": [
    {
     "data": {
      "text/html": [
       "<style>#sk-container-id-9 {color: black;background-color: white;}#sk-container-id-9 pre{padding: 0;}#sk-container-id-9 div.sk-toggleable {background-color: white;}#sk-container-id-9 label.sk-toggleable__label {cursor: pointer;display: block;width: 100%;margin-bottom: 0;padding: 0.3em;box-sizing: border-box;text-align: center;}#sk-container-id-9 label.sk-toggleable__label-arrow:before {content: \"▸\";float: left;margin-right: 0.25em;color: #696969;}#sk-container-id-9 label.sk-toggleable__label-arrow:hover:before {color: black;}#sk-container-id-9 div.sk-estimator:hover label.sk-toggleable__label-arrow:before {color: black;}#sk-container-id-9 div.sk-toggleable__content {max-height: 0;max-width: 0;overflow: hidden;text-align: left;background-color: #f0f8ff;}#sk-container-id-9 div.sk-toggleable__content pre {margin: 0.2em;color: black;border-radius: 0.25em;background-color: #f0f8ff;}#sk-container-id-9 input.sk-toggleable__control:checked~div.sk-toggleable__content {max-height: 200px;max-width: 100%;overflow: auto;}#sk-container-id-9 input.sk-toggleable__control:checked~label.sk-toggleable__label-arrow:before {content: \"▾\";}#sk-container-id-9 div.sk-estimator input.sk-toggleable__control:checked~label.sk-toggleable__label {background-color: #d4ebff;}#sk-container-id-9 div.sk-label input.sk-toggleable__control:checked~label.sk-toggleable__label {background-color: #d4ebff;}#sk-container-id-9 input.sk-hidden--visually {border: 0;clip: rect(1px 1px 1px 1px);clip: rect(1px, 1px, 1px, 1px);height: 1px;margin: -1px;overflow: hidden;padding: 0;position: absolute;width: 1px;}#sk-container-id-9 div.sk-estimator {font-family: monospace;background-color: #f0f8ff;border: 1px dotted black;border-radius: 0.25em;box-sizing: border-box;margin-bottom: 0.5em;}#sk-container-id-9 div.sk-estimator:hover {background-color: #d4ebff;}#sk-container-id-9 div.sk-parallel-item::after {content: \"\";width: 100%;border-bottom: 1px solid gray;flex-grow: 1;}#sk-container-id-9 div.sk-label:hover label.sk-toggleable__label {background-color: #d4ebff;}#sk-container-id-9 div.sk-serial::before {content: \"\";position: absolute;border-left: 1px solid gray;box-sizing: border-box;top: 0;bottom: 0;left: 50%;z-index: 0;}#sk-container-id-9 div.sk-serial {display: flex;flex-direction: column;align-items: center;background-color: white;padding-right: 0.2em;padding-left: 0.2em;position: relative;}#sk-container-id-9 div.sk-item {position: relative;z-index: 1;}#sk-container-id-9 div.sk-parallel {display: flex;align-items: stretch;justify-content: center;background-color: white;position: relative;}#sk-container-id-9 div.sk-item::before, #sk-container-id-9 div.sk-parallel-item::before {content: \"\";position: absolute;border-left: 1px solid gray;box-sizing: border-box;top: 0;bottom: 0;left: 50%;z-index: -1;}#sk-container-id-9 div.sk-parallel-item {display: flex;flex-direction: column;z-index: 1;position: relative;background-color: white;}#sk-container-id-9 div.sk-parallel-item:first-child::after {align-self: flex-end;width: 50%;}#sk-container-id-9 div.sk-parallel-item:last-child::after {align-self: flex-start;width: 50%;}#sk-container-id-9 div.sk-parallel-item:only-child::after {width: 0;}#sk-container-id-9 div.sk-dashed-wrapped {border: 1px dashed gray;margin: 0 0.4em 0.5em 0.4em;box-sizing: border-box;padding-bottom: 0.4em;background-color: white;}#sk-container-id-9 div.sk-label label {font-family: monospace;font-weight: bold;display: inline-block;line-height: 1.2em;}#sk-container-id-9 div.sk-label-container {text-align: center;}#sk-container-id-9 div.sk-container {/* jupyter's `normalize.less` sets `[hidden] { display: none; }` but bootstrap.min.css set `[hidden] { display: none !important; }` so we also need the `!important` here to be able to override the default hidden behavior on the sphinx rendered scikit-learn.org. See: https://github.com/scikit-learn/scikit-learn/issues/21755 */display: inline-block !important;position: relative;}#sk-container-id-9 div.sk-text-repr-fallback {display: none;}</style><div id=\"sk-container-id-9\" class=\"sk-top-container\"><div class=\"sk-text-repr-fallback\"><pre>KNeighborsClassifier(leaf_size=25, n_neighbors=21, weights=&#x27;distance&#x27;)</pre><b>In a Jupyter environment, please rerun this cell to show the HTML representation or trust the notebook. <br />On GitHub, the HTML representation is unable to render, please try loading this page with nbviewer.org.</b></div><div class=\"sk-container\" hidden><div class=\"sk-item\"><div class=\"sk-estimator sk-toggleable\"><input class=\"sk-toggleable__control sk-hidden--visually\" id=\"sk-estimator-id-11\" type=\"checkbox\" checked><label for=\"sk-estimator-id-11\" class=\"sk-toggleable__label sk-toggleable__label-arrow\">KNeighborsClassifier</label><div class=\"sk-toggleable__content\"><pre>KNeighborsClassifier(leaf_size=25, n_neighbors=21, weights=&#x27;distance&#x27;)</pre></div></div></div></div></div>"
      ],
      "text/plain": [
       "KNeighborsClassifier(leaf_size=25, n_neighbors=21, weights='distance')"
      ]
     },
     "execution_count": 131,
     "metadata": {},
     "output_type": "execute_result"
    }
   ],
   "source": [
    "knn_model = KNeighborsClassifier(n_neighbors = knn_cv_model.best_params_[\"n_neighbors\"],\n",
    "                                leaf_size = knn_cv_model.best_params_[\"leaf_size\"],\n",
    "                                weights = knn_cv_model.best_params_[\"weights\"])\n",
    "\n",
    "knn_model.fit(x_train, y_train)"
   ]
  },
  {
   "cell_type": "markdown",
   "metadata": {},
   "source": [
    "Evaluate hypertuned knn model"
   ]
  },
  {
   "cell_type": "code",
   "execution_count": 132,
   "metadata": {},
   "outputs": [
    {
     "data": {
      "text/plain": [
       "0.759375"
      ]
     },
     "execution_count": 132,
     "metadata": {},
     "output_type": "execute_result"
    }
   ],
   "source": [
    "#model accuracy score \n",
    "y_pred = knn_model.predict(x_test)\n",
    "accuracy_score(y_test, y_pred)"
   ]
  },
  {
   "cell_type": "code",
   "execution_count": 133,
   "metadata": {},
   "outputs": [
    {
     "name": "stdout",
     "output_type": "stream",
     "text": [
      "              precision    recall  f1-score   support\n",
      "\n",
      "           0       0.75      0.76      0.75       154\n",
      "           1       0.77      0.76      0.77       166\n",
      "\n",
      "    accuracy                           0.76       320\n",
      "   macro avg       0.76      0.76      0.76       320\n",
      "weighted avg       0.76      0.76      0.76       320\n",
      "\n"
     ]
    }
   ],
   "source": [
    "print(classification_report(y_test, y_pred))"
   ]
  },
  {
   "cell_type": "code",
   "execution_count": 134,
   "metadata": {},
   "outputs": [
    {
     "name": "stdout",
     "output_type": "stream",
     "text": [
      "[[117  37]\n",
      " [ 40 126]]\n"
     ]
    }
   ],
   "source": [
    "cf_matrix = confusion_matrix(y_test, y_pred)\n",
    "print (cf_matrix)"
   ]
  },
  {
   "cell_type": "code",
   "execution_count": 135,
   "metadata": {},
   "outputs": [
    {
     "data": {
      "text/plain": [
       "<Axes: >"
      ]
     },
     "execution_count": 135,
     "metadata": {},
     "output_type": "execute_result"
    },
    {
     "data": {
      "image/png": "[encoded data removed]",
      "text/plain": [
       "<Figure size 640x480 with 2 Axes>"
      ]
     },
     "metadata": {},
     "output_type": "display_data"
    }
   ],
   "source": [
    "sns.heatmap(cf_matrix/np.sum(cf_matrix), annot=True, \n",
    "            fmt='.2%', cmap='Blues')"
   ]
  }
 ],
 "metadata": {
  "kernelspec": {
   "display_name": "Python 3",
   "language": "python",
   "name": "python3"
  },
  "language_info": {
   "codemirror_mode": {
    "name": "ipython",
    "version": 3
   },
   "file_extension": ".py",
   "mimetype": "text/x-python",
   "name": "python",
   "nbconvert_exporter": "python",
   "pygments_lexer": "ipython3",
   "version": "3.11.2"
  }
 },
 "nbformat": 4,
 "nbformat_minor": 2
}
